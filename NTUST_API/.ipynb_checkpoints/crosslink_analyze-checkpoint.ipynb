{
 "cells": [
  {
   "cell_type": "code",
   "execution_count": 3,
   "metadata": {
    "collapsed": true
   },
   "outputs": [],
   "source": [
    "import time\n",
    "\n",
    "\n",
    "from pyquery import PyQuery as pq\n",
    "import pandas as pd\n",
    "import requests"
   ]
  },
  {
   "cell_type": "code",
   "execution_count": 4,
   "metadata": {
    "collapsed": true
   },
   "outputs": [],
   "source": [
    "host_path = \"https://www.crosslink.tw\""
   ]
  },
  {
   "cell_type": "code",
   "execution_count": 44,
   "metadata": {
    "collapsed": false
   },
   "outputs": [],
   "source": [
    "profile_herf = \"https://www.crosslink.tw/users/5444\"\n",
    "req_s = requests.Session() # 建連線\n",
    "req_s.encoding = 'utf-8'\n",
    "q = pq(req_s.get(profile_herf).text)"
   ]
  },
  {
   "cell_type": "code",
   "execution_count": 45,
   "metadata": {
    "collapsed": false
   },
   "outputs": [
    {
     "data": {
      "text/plain": [
       "'<!DOCTYPE html><html><head><meta charset=\"utf-8\" /><meta content=\"IE=edge\" http-equiv=\"X-UA-Compatible\" />\\n<script type=\"text/javascript\">window.NREUM||(NREUM={});NREUM.info={\"beacon\":\"bam.nr-data.net\",\"errorBeacon\":\"bam.nr-data.net\",\"licenseKey\":\"f936821018\",\"applicationID\":\"24501913\",\"transactionName\":\"dVxbEUJYWQlWQR5MRVNBRkpDX1oS\",\"queueTime\":0,\"applicationTime\":262,\"agent\":\"\"}</script>\\n<script type=\"text/javascript\">window.NREUM||(NREUM={}),__nr_require=function(e,t,n){function r(n){if(!t[n]){var o=t[n]={exports:{}};e[n][0].call(o.exports,function(t){var o=e[n][1][t];return r(o||t)},o,o.exports)}return t[n].exports}if(\"function\"==typeof __nr_require)return __nr_require;for(var o=0;o<n.length;o++)r(n[o]);return r}({1:[function(e,t,n){function r(){}function o(e,t,n){return function(){return i(e,[f.now()].concat(u(arguments)),t?null:this,n),t?void 0:this}}var i=e(\"handle\"),a=e(2),u=e(3),c=e(\"ee\").get(\"tracer\"),f=e(\"loader\"),s=NREUM;\"undefined\"==typeof window.newrelic&&(newrelic=s);var p=[\"setPageViewName\",\"setCustomAttribute\",\"setErrorHandler\",\"finished\",\"addToTrace\",\"inlineHit\",\"addRelease\"],d=\"api-\",l=d+\"ixn-\";a(p,function(e,t){s[t]=o(d+t,!0,\"api\")}),s.addPageAction=o(d+\"addPageAction\",!0),s.setCurrentRouteName=o(d+\"routeName\",!0),t.exports=newrelic,s.interaction=function(){return(new r).get()};var m=r.prototype={createTracer:function(e,t){var n={},r=this,o=\"function\"==typeof t;return i(l+\"tracer\",[f.now(),e,n],r),function(){if(c.emit((o?\"\":\"no-\")+\"fn-start\",[f.now(),r,o],n),o)try{return t.apply(this,arguments)}catch(e){throw c.emit(\"fn-err\",[arguments,this,e],n),e}finally{c.emit(\"fn-end\",[f.now()],n)}}}};a(\"setName,setAttribute,save,ignore,onEnd,getContext,end,get\".split(\",\"),function(e,t){m[t]=o(l+t)}),newrelic.noticeError=function(e){\"string\"==typeof e&&(e=new Error(e)),i(\"err\",[e,f.now()])}},{}],2:[function(e,t,n){function r(e,t){var n=[],r=\"\",i=0;for(r in e)o.call(e,r)&&(n[i]=t(r,e[r]),i+=1);return n}var o=Object.prototype.hasOwnProperty;t.exports=r},{}],3:[function(e,t,n){function r(e,t,n){t||(t=0),\"undefined\"==typeof n&&(n=e?e.length:0);for(var r=-1,o=n-t||0,i=Array(o<0?0:o);++r<o;)i[r]=e[t+r];return i}t.exports=r},{}],4:[function(e,t,n){t.exports={exists:\"undefined\"!=typeof window.performance&&window.performance.timing&&\"undefined\"!=typeof window.performance.timing.navigationStart}},{}],ee:[function(e,t,n){function r(){}function o(e){function t(e){return e&&e instanceof r?e:e?c(e,u,i):i()}function n(n,r,o,i){if(!d.aborted||i){e&&e(n,r,o);for(var a=t(o),u=m(n),c=u.length,f=0;f<c;f++)u[f].apply(a,r);var p=s[y[n]];return p&&p.push([b,n,r,a]),a}}function l(e,t){v[e]=m(e).concat(t)}function m(e){return v[e]||[]}function w(e){return p[e]=p[e]||o(n)}function g(e,t){f(e,function(e,n){t=t||\"feature\",y[n]=t,t in s||(s[t]=[])})}var v={},y={},b={on:l,emit:n,get:w,listeners:m,context:t,buffer:g,abort:a,aborted:!1};return b}function i(){return new r}function a(){(s.api||s.feature)&&(d.aborted=!0,s=d.backlog={})}var u=\"nr@context\",c=e(\"gos\"),f=e(2),s={},p={},d=t.exports=o();d.backlog=s},{}],gos:[function(e,t,n){function r(e,t,n){if(o.call(e,t))return e[t];var r=n();if(Object.defineProperty&&Object.keys)try{return Object.defineProperty(e,t,{value:r,writable:!0,enumerable:!1}),r}catch(i){}return e[t]=r,r}var o=Object.prototype.hasOwnProperty;t.exports=r},{}],handle:[function(e,t,n){function r(e,t,n,r){o.buffer([e],r),o.emit(e,t,n)}var o=e(\"ee\").get(\"handle\");t.exports=r,r.ee=o},{}],id:[function(e,t,n){function r(e){var t=typeof e;return!e||\"object\"!==t&&\"function\"!==t?-1:e===window?0:a(e,i,function(){return o++})}var o=1,i=\"nr@id\",a=e(\"gos\");t.exports=r},{}],loader:[function(e,t,n){function r(){if(!x++){var e=h.info=NREUM.info,t=d.getElementsByTagName(\"script\")[0];if(setTimeout(s.abort,3e4),!(e&&e.licenseKey&&e.applicationID&&t))return s.abort();f(y,function(t,n){e[t]||(e[t]=n)}),c(\"mark\",[\"onload\",a()+h.offset],null,\"api\");var n=d.createElement(\"script\");n.src=\"https://\"+e.agent,t.parentNode.insertBefore(n,t)}}function o(){\"complete\"===d.readyState&&i()}function i(){c(\"mark\",[\"domContent\",a()+h.offset],null,\"api\")}function a(){return E.exists&&performance.now?Math.round(performance.now()):(u=Math.max((new Date).getTime(),u))-h.offset}var u=(new Date).getTime(),c=e(\"handle\"),f=e(2),s=e(\"ee\"),p=window,d=p.document,l=\"addEventListener\",m=\"attachEvent\",w=p.XMLHttpRequest,g=w&&w.prototype;NREUM.o={ST:setTimeout,SI:p.setImmediate,CT:clearTimeout,XHR:w,REQ:p.Request,EV:p.Event,PR:p.Promise,MO:p.MutationObserver};var v=\"\"+location,y={beacon:\"bam.nr-data.net\",errorBeacon:\"bam.nr-data.net\",agent:\"js-agent.newrelic.com/nr-1071.min.js\"},b=w&&g&&g[l]&&!/CriOS/.test(navigator.userAgent),h=t.exports={offset:u,now:a,origin:v,features:{},xhrWrappable:b};e(1),d[l]?(d[l](\"DOMContentLoaded\",i,!1),p[l](\"load\",r,!1)):(d[m](\"onreadystatechange\",o),p[m](\"onload\",r)),c(\"mark\",[\"firstbyte\",u],null,\"api\");var x=0,E=e(4)},{}]},{},[\"loader\"]);</script><meta content=\"width=device-width, initial-scale=1.0, maximum-scale=1.0, user-scalable=no\" name=\"viewport\" /><title>林詠翔 | CrossLink 臺大、臺科大、臺師大選課模擬</title>\\n<meta content=\"CrossLink - 認識同學從選課開始，臺大、臺科大、臺師大三校選課。\" name=\"description\" />\\n<meta content=\"CrossLink\" property=\"og:title\" />\\n<meta content=\"website\" property=\"og:type\" />\\n<meta content=\"https://www.crosslink.tw/\" property=\"og:url\" />\\n<meta content=\"CrossLink - 認識同學從選課開始，臺大、臺科大、臺師大三校選課。\" property=\"og:description\" /><meta content=\"https://www.crosslink.tw/images/og3.png\" property=\"og:image\" /><meta content=\"914\" property=\"og:image:width\" /><meta content=\"914\" property=\"og:image:height\" /><link href=\"https://cdn.crosslink.tw/assets/icon-7ff3823f5c59706ee7cf5b534fcd3ed7.png\" rel=\"shortcut icon\" /><link href=\"//fonts.googleapis.com/css?family=Open+Sans|Lato:400\" rel=\"stylesheet\" type=\"text/css\" /><link href=\"/images/touch-icon-iphone.png\" rel=\"apple-touch-icon\" /><link href=\"/images/touch-icon-ipad.png\" rel=\"apple-touch-icon\" sizes=\"76x76\" /><link href=\"/images/touch-icon-iphone-retina.png\" rel=\"apple-touch-icon\" sizes=\"120x120\" /><link href=\"/images/touch-icon-ipad-retina.png\" rel=\"apple-touch-icon\" sizes=\"152x152\" /><link href=\"//maxcdn.bootstrapcdn.com/bootstrap/3.3.1/css/bootstrap.min.css\" media=\"all\" rel=\"stylesheet\" /><link href=\"//cdnjs.cloudflare.com/ajax/libs/font-awesome/4.2.0/css/font-awesome.min.css\" media=\"all\" rel=\"stylesheet\" /><link data-turbolinks-track=\"true\" href=\"https://cdn.crosslink.tw/assets/application-1a2fb97a42447ac848f57041ffe80d7e.css\" media=\"all\" rel=\"stylesheet\" /><meta content=\"authenticity_token\" name=\"csrf-param\" />\\n<meta content=\"8IzJwZW1iR7QSB7vp97HUVezt7wASWipOZ9weT6NkFg=\" name=\"csrf-token\" /></head><body><header id=\"header\" role=\"banner\"><div class=\"navbar\"><div class=\"container\"><div class=\"navbar-header\"><a class=\"navbar-brand\" href=\"/\">CrossLink 臺大、臺科大、臺師大選課模擬</a><button class=\"navbar-toggle collapsed\" data-target=\"#header-menu\" data-toggle=\"collapse\" type=\"button\"><span class=\"sr-only\"></span><span class=\"icon-bar\"></span><span class=\"icon-bar\"></span><span class=\"icon-bar\"></span></button></div><nav class=\"collapse navbar-collapse\" id=\"header-menu\" role=\"navigation\"><ul class=\"nav navbar-nav\"><li><a href=\"/simulator\">選課模擬</a></li><li><a href=\"/courses?q%5Buniversity_id_eq%5D=&amp;q%5Byear_eq%5D=1062\">課程查詢</a></li><li><a href=\"https://www.crosslink.tw/questions\">詢問課程</a></li><li><a href=\"/explorers\">找同學</a></li></ul><ul class=\"nav navbar-nav navbar-right\"><li><a class=\"login\" href=\"/account/auth/facebook\">Sign in with Facebook</a></li></ul></nav></div></div></header><main class=\"container\"><div class=\"profile-head clearfix\"><div class=\"cover-wrapper\"><div class=\"cover-photo blur\" style=\"background-image:url()\"></div></div><div class=\"profile-headline\"><a href=\"/users/5444\"><img alt=\"林詠翔\" class=\"img-thumbnail avatar\" src=\"//graph.facebook.com/857835264235016/picture?type=large&amp;width=200&amp;height=200\" /></a><div class=\"name\"><h1><a href=\"/users/5444\">林詠翔</a></h1><small>臺灣科技大學</small></div><ul class=\"list-inline profile-stats pull-left\"><li><a data-toggle=\"tooltip\" href=\"#\" title=\"瀏覽人數\"><label class=\"count\">90</label><label class=\"meta\">Views</label></a></li><li class=\"likes\"><a data-toggle=\"tooltip\" href=\"#\" title=\"收到的喜歡\"><label class=\"count\">5</label><label class=\"meta\">Likes</label></a></li><li><a data-toggle=\"tooltip\" href=\"#\" title=\"總學分數\"><label class=\"count\">152</label><label class=\"meta\">Credits</label></a></li></ul><div class=\"profile-dash-actions pull-right\"><div class=\"like-prompt\"><a class=\"unlike\" href=\"/likes/5444?type=User\" rel=\"nofollow\">Unlike</a><a class=\"like\" data-toggle=\"tooltip\" href=\"/likes?id=5444&amp;type=User\" rel=\"nofollow\" title=\"當對方選修新的課程時您將會收到通知\">Like</a></div><div class=\"facebook-prompt\"><a class=\"facebook\" href=\"/users/5444/facebook\" rel=\"nofollow\" target=\"_blank\">Facebook</a></div></div></div></div><div class=\"row\"><div class=\"col-md-3\"><div class=\"white-block mb-10\"><div class=\"page-header\">關於我</div><div class=\"content\"><div data-react-class=\"UserProfile.Root\" data-react-props=\"{&quot;user_id&quot;:5444}\"></div></div></div><div class=\"white-block mb-10\"><div class=\"page-header\">歷年課表</div><div class=\"content\"><ul class=\"user-year-history\"><li class=\"clearfix\"><a href=\"/users/5444/timetable/1062\">106學年第二學期</a><span class=\"credits\">6 學分</span></li><li class=\"clearfix\"><a href=\"/users/5444/timetable/1061\">106學年第一學期</a><span class=\"credits\">13 學分</span></li><li class=\"clearfix\"><a href=\"/users/5444/timetable/1052\">105學年第二學期</a><span class=\"credits\">16 學分</span></li><li class=\"clearfix\"><a href=\"/users/5444/timetable/1051\">105學年第一學期</a><span class=\"credits\">21 學分</span></li><li class=\"clearfix\"><a href=\"/users/5444/timetable/1042\">104學年第二學期</a><span class=\"credits\">24 學分</span></li><li class=\"clearfix\"><a href=\"/users/5444/timetable/1041\">104學年第一學期</a><span class=\"credits\">24 學分</span></li><li class=\"clearfix\"><a href=\"/users/5444/timetable/1032\">103學年第二學期</a><span class=\"credits\">25 學分</span></li><li class=\"clearfix\"><a href=\"/users/5444/timetable/1031\">103學年第一學期</a><span class=\"credits\">23 學分</span></li></ul></div></div><div class=\"white-block\"><div class=\"page-header\">訪客</div><div class=\"content\"><ul class=\"user-visitors clearfix\"><li class=\"visitor\"><a class=\"M\" data-toggle=\"tooltip\" href=\"/users/5826\" title=\"劉又誠 於 05 Mar 00:23\"><img alt=\"\" src=\"https://graph.facebook.com/693981380696365/picture?alt=&amp;height=130&amp;width=130\" /></a></li><li class=\"visitor\"><a class=\"M\" data-toggle=\"tooltip\" href=\"/users/4709\" title=\"雷礎宇 於 27 Feb 08:38\"><img alt=\"\" src=\"https://graph.facebook.com/703282739741633/picture?alt=&amp;height=130&amp;width=130\" /></a></li><li class=\"visitor\"><a class=\"M\" data-toggle=\"tooltip\" href=\"/users/4658\" title=\"Chen Shi Jie 於 25 Dec 11:03\"><img alt=\"\" src=\"https://graph.facebook.com/405884896229130/picture?alt=&amp;height=130&amp;width=130\" /></a></li><li class=\"visitor\"><a class=\"M\" data-toggle=\"tooltip\" href=\"/users/8019\" title=\"Sam Hung 於 23 Dec 01:17\"><img alt=\"\" src=\"https://graph.facebook.com/1013109925379475/picture?alt=&amp;height=130&amp;width=130\" /></a></li><li class=\"visitor\"><a class=\"M\" data-toggle=\"tooltip\" href=\"/users/7407\" title=\"余福浩 於 18 Dec 09:21\"><img alt=\"\" src=\"https://graph.facebook.com/1139442296070046/picture?alt=&amp;height=130&amp;width=130\" /></a></li><li class=\"visitor\"><a class=\"M\" data-toggle=\"tooltip\" href=\"/users/4750\" title=\"王聖文 於 11 Sep 17:38\"><img alt=\"\" src=\"https://graph.facebook.com/652806748160717/picture?alt=&amp;height=130&amp;width=130\" /></a></li><li class=\"visitor\"><a class=\"M\" data-toggle=\"tooltip\" href=\"/users/7105\" title=\"譚其恩 於 10 Sep 22:14\"><img alt=\"\" src=\"https://graph.facebook.com/778729385531644/picture?alt=&amp;height=130&amp;width=130\" /></a></li><li class=\"visitor\"><a class=\"M\" data-toggle=\"tooltip\" href=\"/users/4032\" title=\"Yun-Hsi Lee 於 10 Sep 16:47\"><img alt=\"\" src=\"https://graph.facebook.com/939509576065735/picture?alt=&amp;height=130&amp;width=130\" /></a></li><li class=\"visitor\"><a class=\"M\" data-toggle=\"tooltip\" href=\"/users/4016\" title=\"林彥丞 於 28 Aug 19:56\"><img alt=\"\" src=\"https://graph.facebook.com/945895495437411/picture?alt=&amp;height=130&amp;width=130\" /></a></li></ul></div></div></div><div class=\"col-md-9\"><div class=\"white-block\"><div class=\"page-header\">106學年第二學期</div><div class=\"content\"><div data-react-class=\"Simulator.Table\" data-react-props=\"{&quot;current_courses&quot;:[{&quot;id&quot;:231602,&quot;name&quot;:&quot;論文研討(二)&quot;,&quot;time_pairs&quot;:[{&quot;M&quot;:[&quot;13:20&quot;,&quot;14:10&quot;]},{&quot;M&quot;:[&quot;14:20&quot;,&quot;15:10&quot;]},{&quot;M&quot;:[&quot;15:30&quot;,&quot;16:20&quot;]}],&quot;lecture&quot;:&quot;金台齡&quot;,&quot;credits&quot;:0,&quot;users_count&quot;:18,&quot;no&quot;:&quot;CS5902301&quot;},{&quot;id&quot;:231595,&quot;name&quot;:&quot;社群媒體資料分析實務&quot;,&quot;time_pairs&quot;:[{&quot;F&quot;:[&quot;09:10&quot;,&quot;10:00&quot;]},{&quot;F&quot;:[&quot;10:20&quot;,&quot;11:10&quot;]},{&quot;F&quot;:[&quot;11:20&quot;,&quot;12:10&quot;]}],&quot;lecture&quot;:&quot;陳怡伶&quot;,&quot;credits&quot;:3,&quot;users_count&quot;:16,&quot;no&quot;:&quot;CS5128701&quot;},{&quot;id&quot;:231601,&quot;name&quot;:&quot;深度學習於電腦視覺之應用&quot;,&quot;time_pairs&quot;:[{&quot;T&quot;:[&quot;09:10&quot;,&quot;10:00&quot;]},{&quot;T&quot;:[&quot;10:20&quot;,&quot;11:10&quot;]},{&quot;T&quot;:[&quot;11:20&quot;,&quot;12:10&quot;]}],&quot;lecture&quot;:&quot;花凱龍&quot;,&quot;credits&quot;:3,&quot;users_count&quot;:23,&quot;no&quot;:&quot;CS5145701&quot;}]}\"></div></div></div></div></div></main><footer class=\"footer\"><div class=\"container text-center\">CrossLink 臺大、臺科大、臺師大選課模擬<div class=\"visible-xs-block\"></div><img alt=\"Weheartit\" src=\"https://cdn.crosslink.tw/assets/icon/weheartit-53564d7d1060f1d2f9a4281f087b540b.png\" />Designed By <a href=\"http://fb.json.tw/\">JSON</a></div></footer><script src=\"https://cdn.crosslink.tw/assets/application-7d81d0d450bf9bb85a779776e1b81290.js\"></script><div aria-hidden=\"true\" aria-labelledby=\"myModalLabel\" class=\"modal fade\" id=\"modal\" role=\"dialog\" tabindex=\"-1\"><div class=\"modal-dialog\"><div class=\"modal-content\"></div></div></div><script></script><!-- GoogleAnalytics -->\\n<script>\\n  (function(i,s,o,g,r,a,m){i[\\'GoogleAnalyticsObject\\']=r;i[r]=i[r]||function(){\\n  (i[r].q=i[r].q||[]).push(arguments)},i[r].l=1*new Date();a=s.createElement(o),\\n  m=s.getElementsByTagName(o)[0];a.async=1;a.src=g;m.parentNode.insertBefore(a,m)\\n  })(window,document,\\'script\\',\\'//www.google-analytics.com/analytics.js\\',\\'ga\\');\\n\\n  ga(\\'create\\', \\'UA-43101256-7\\', \\'auto\\');\\n  ga(\\'send\\', \\'pageview\\');\\n</script>\\n<!-- Facebook -->\\n<div id=\"fb-root\"></div>\\n<script>(function(d, s, id) {\\n  var js, fjs = d.getElementsByTagName(s)[0];\\n  if (d.getElementById(id)) return;\\n  js = d.createElement(s); js.id = id;\\n  js.src = \"//connect.facebook.net/zh_TW/sdk.js#xfbml=1&appId=494999427311515&version=v2.0\";\\n  fjs.parentNode.insertBefore(js, fjs);\\n}(document, \\'script\\', \\'facebook-jssdk\\'));</script></body></html>'"
      ]
     },
     "execution_count": 45,
     "metadata": {},
     "output_type": "execute_result"
    }
   ],
   "source": [
    "req_s.get(profile_herf).text"
   ]
  },
  {
   "cell_type": "code",
   "execution_count": 84,
   "metadata": {
    "collapsed": false
   },
   "outputs": [
    {
     "data": {
      "text/plain": [
       "{'current_courses': [{'credits': 0,\n",
       "   'id': 231602,\n",
       "   'lecture': '金台齡',\n",
       "   'name': '論文研討(二)',\n",
       "   'no': 'CS5902301',\n",
       "   'time_pairs': [{'M': ['13:20', '14:10']},\n",
       "    {'M': ['14:20', '15:10']},\n",
       "    {'M': ['15:30', '16:20']}],\n",
       "   'users_count': 18},\n",
       "  {'credits': 3,\n",
       "   'id': 231595,\n",
       "   'lecture': '陳怡伶',\n",
       "   'name': '社群媒體資料分析實務',\n",
       "   'no': 'CS5128701',\n",
       "   'time_pairs': [{'F': ['09:10', '10:00']},\n",
       "    {'F': ['10:20', '11:10']},\n",
       "    {'F': ['11:20', '12:10']}],\n",
       "   'users_count': 16},\n",
       "  {'credits': 3,\n",
       "   'id': 231601,\n",
       "   'lecture': '花凱龍',\n",
       "   'name': '深度學習於電腦視覺之應用',\n",
       "   'no': 'CS5145701',\n",
       "   'time_pairs': [{'T': ['09:10', '10:00']},\n",
       "    {'T': ['10:20', '11:10']},\n",
       "    {'T': ['11:20', '12:10']}],\n",
       "   'users_count': 23}]}"
      ]
     },
     "execution_count": 84,
     "metadata": {},
     "output_type": "execute_result"
    }
   ],
   "source": [
    "courses = q(\".col-md-9\").find(\".content\").children().attr(\"data-react-props\")\n",
    "# print(courses)\n",
    "import json\n",
    "\n",
    "info = json.loads(courses)\n",
    "info"
   ]
  },
  {
   "cell_type": "code",
   "execution_count": 99,
   "metadata": {
    "collapsed": false
   },
   "outputs": [
    {
     "name": "stdout",
     "output_type": "stream",
     "text": [
      "論文研討(二) - 金台齡\n",
      "\t[{'M': ['13:20', '14:10']}, {'M': ['14:20', '15:10']}, {'M': ['15:30', '16:20']}]\n",
      "社群媒體資料分析實務 - 陳怡伶\n",
      "\t[{'F': ['09:10', '10:00']}, {'F': ['10:20', '11:10']}, {'F': ['11:20', '12:10']}]\n",
      "深度學習於電腦視覺之應用 - 花凱龍\n",
      "\t[{'T': ['09:10', '10:00']}, {'T': ['10:20', '11:10']}, {'T': ['11:20', '12:10']}]\n",
      "\n"
     ]
    }
   ],
   "source": [
    "info_data = \"\"\n",
    "for data in info[\"current_courses\"]:\n",
    "    info_data += data[\"name\"] + \" - \" + data[\"lecture\"] + '\\n\\t'\n",
    "    info_data += str(data[\"time_pairs\"]) + '\\n'\n",
    "print(info_data)"
   ]
  },
  {
   "cell_type": "code",
   "execution_count": null,
   "metadata": {
    "collapsed": true
   },
   "outputs": [],
   "source": []
  }
 ],
 "metadata": {
  "kernelspec": {
   "display_name": "Python 3",
   "language": "python",
   "name": "python3"
  },
  "language_info": {
   "codemirror_mode": {
    "name": "ipython",
    "version": 3
   },
   "file_extension": ".py",
   "mimetype": "text/x-python",
   "name": "python",
   "nbconvert_exporter": "python",
   "pygments_lexer": "ipython3",
   "version": "3.6.0"
  }
 },
 "nbformat": 4,
 "nbformat_minor": 2
}
